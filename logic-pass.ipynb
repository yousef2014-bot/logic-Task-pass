{
  "nbformat": 4,
  "nbformat_minor": 0,
  "metadata": {
    "colab": {
      "name": "Untitled4.ipynb",
      "provenance": [],
      "authorship_tag": "ABX9TyNvr/kVNuICIKBnY8Be7XXt",
      "include_colab_link": true
    },
    "kernelspec": {
      "name": "python3",
      "display_name": "Python 3"
    },
    "language_info": {
      "name": "python"
    }
  },
  "cells": [
    {
      "cell_type": "markdown",
      "metadata": {
        "id": "view-in-github",
        "colab_type": "text"
      },
      "source": [
        "<a href=\"https://colab.research.google.com/github/yousef2014-bot/logic-Task-pass/blob/main/Untitled4.ipynb\" target=\"_parent\"><img src=\"https://colab.research.google.com/assets/colab-badge.svg\" alt=\"Open In Colab\"/></a>"
      ]
    },
    {
      "cell_type": "code",
      "execution_count": 3,
      "metadata": {
        "id": "yUDQsvTF5GRa"
      },
      "outputs": [],
      "source": [
        "def rmchar(string,char):\n",
        "    return string.replace(char,\"\")"
      ]
    },
    {
      "cell_type": "code",
      "source": [
        "rmchar(\"test\",\"s\")"
      ],
      "metadata": {
        "colab": {
          "base_uri": "https://localhost:8080/",
          "height": 35
        },
        "id": "-3imvr2x5iJv",
        "outputId": "73f6bab3-3ca6-4c8f-d8dd-87e57c9d4697"
      },
      "execution_count": 4,
      "outputs": [
        {
          "output_type": "execute_result",
          "data": {
            "text/plain": [
              "'tet'"
            ],
            "application/vnd.google.colaboratory.intrinsic+json": {
              "type": "string"
            }
          },
          "metadata": {},
          "execution_count": 4
        }
      ]
    },
    {
      "cell_type": "code",
      "source": [
        "def primenum(range):\n",
        "    return [I for I in range if I %2==1]"
      ],
      "metadata": {
        "id": "DQJBFM6d50hj"
      },
      "execution_count": 5,
      "outputs": []
    },
    {
      "cell_type": "code",
      "source": [
        "primenum((1,2,4))"
      ],
      "metadata": {
        "colab": {
          "base_uri": "https://localhost:8080/"
        },
        "id": "ipDPHwQ76U58",
        "outputId": "65c85d91-9957-477c-8acc-a50a6c73ea4a"
      },
      "execution_count": 6,
      "outputs": [
        {
          "output_type": "execute_result",
          "data": {
            "text/plain": [
              "[1]"
            ]
          },
          "metadata": {},
          "execution_count": 6
        }
      ]
    },
    {
      "cell_type": "code",
      "source": [
        "def charrepeat(string):\n",
        "  lst = []\n",
        "  for i in range(0, len(string)):  \n",
        "    count = 1;  \n",
        "    for j in range(i+1, len(string)):  \n",
        "        if(string[i] == string[j] and string[i] != ' '):  \n",
        "            count = count + 1;  \n",
        "            string = string[:j] + '0' + string[j+1:];  \n",
        "    \n",
        "    if(count > 1 and string[i] != '0'):  \n",
        "        lst.append(string[i])\n",
        "  return lst"
      ],
      "metadata": {
        "id": "UGqp0W3d6p2v"
      },
      "execution_count": 7,
      "outputs": []
    },
    {
      "cell_type": "code",
      "source": [
        "charrepeat(\"tessssssst\")"
      ],
      "metadata": {
        "colab": {
          "base_uri": "https://localhost:8080/"
        },
        "id": "YQGFceMr71rK",
        "outputId": "b95c370f-55b1-4140-e2f4-4ba79b4fef5f"
      },
      "execution_count": 8,
      "outputs": [
        {
          "output_type": "execute_result",
          "data": {
            "text/plain": [
              "['t', 's']"
            ]
          },
          "metadata": {},
          "execution_count": 8
        }
      ]
    }
  ]
}
